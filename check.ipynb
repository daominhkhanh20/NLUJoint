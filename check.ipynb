{
 "cells": [
  {
   "cell_type": "code",
   "execution_count": 1,
   "metadata": {},
   "outputs": [],
   "source": [
    "decrease_words = ['giảm', 'hạ', 'xuống']\n",
    "increase_words = ['tăng', 'thêm']\n",
    "level_words = ['mức']\n",
    "check_words = ['kiểm tra', 'kiểm soát', 'quét', 'mở hay đóng', 'đóng hay mở', 'bật hay tắt', 'tắt hay bật', 'check',\n",
    "            'bật hoặc tắt', 'tắt hoặc bật', 'còn bật', 'mở ah', 'đã đóng', 'đã tắt', 'chưa đóng', ' được mở',\n",
    "            'mở hoặc đóng', 'đóng hoặc mở', 'đang tắt', 'bật ah', 'đóng ah', 'được tắt']\n",
    "on_off_words = ['bật', 'mở', 'tắt', 'đóng']\n",
    "set_words = ['cài đặt', 'đặt']\n",
    "color_words = ['xanh', 'đỏ', 'tím', 'vàng', 'lục', 'lam', 'chàm', 'hồng', 'tía', 'trắng', 'đen', 'cam', 'màu']\n"
   ]
  },
  {
   "cell_type": "code",
   "execution_count": 2,
   "metadata": {},
   "outputs": [],
   "source": [
    "def is_true(sent, list_word):\n",
    "    word_split = sent.split(\" \")\n",
    "    for word in list_word:\n",
    "        if (len(word.split(\" \")) == 1 and word in word_split) or (len(word.split(\" \")) > 1 and word in sent):\n",
    "            return True\n",
    "    return False\n",
    "\n",
    "def get_intent(sentence, intent):\n",
    "    label = intent\n",
    "    is_percent_exist = 'phần trăm' in sentence\n",
    "    if not is_true(sentence, on_off_words) and is_true(sentence,\n",
    "                                                    decrease_words + increase_words) and not is_percent_exist:\n",
    "        if intent != 'smart.home.decrease.level' and is_true(sentence, decrease_words):\n",
    "            label = 'smart.home.decrease.level'\n",
    "        elif intent != 'smart.home.increase.level' and is_true(sentence, increase_words) and not is_true(sentence, decrease_words):\n",
    "            label = 'smart.home.increase.level'\n",
    "        else:\n",
    "            label = intent\n",
    "    elif is_true(sentence, check_words):\n",
    "        if is_true(sentence, on_off_words) and intent == 'smart.home.set.level':\n",
    "            label = intent\n",
    "        else:\n",
    "            if intent != 'smart.home.check.status':\n",
    "                label = 'smart.home.check.status'\n",
    "            else:\n",
    "                label = intent\n",
    "    elif is_true(sentence, set_words) and not is_true(sentence, color_words) and not is_percent_exist:\n",
    "        if intent != 'smart.home.set.level':\n",
    "            label = 'smart.home.set.level'\n",
    "        else:\n",
    "            label = intent\n",
    "    elif is_true(sentence, on_off_words) and not is_true(sentence, level_words) and not is_true(sentence, increase_words) \\\n",
    "            and not is_true(sentence, color_words) and not is_percent_exist:\n",
    "        if intent != 'smart.home.device.onoff':\n",
    "            label = 'smart.home.device.onoff'\n",
    "        else:\n",
    "            label = intent\n",
    "    else:\n",
    "        label = intent\n",
    "    return label\n"
   ]
  },
  {
   "cell_type": "code",
   "execution_count": 3,
   "metadata": {},
   "outputs": [
    {
     "data": {
      "text/plain": [
       "'smart.home.increase.level'"
      ]
     },
     "execution_count": 3,
     "metadata": {},
     "output_type": "execute_result"
    }
   ],
   "source": [
    "get_intent('mình muốn tăng bóng', 'smart.home.increase.percentage')"
   ]
  },
  {
   "cell_type": "code",
   "execution_count": null,
   "metadata": {},
   "outputs": [],
   "source": []
  }
 ],
 "metadata": {
  "kernelspec": {
   "display_name": "pytorch",
   "language": "python",
   "name": "python3"
  },
  "language_info": {
   "codemirror_mode": {
    "name": "ipython",
    "version": 3
   },
   "file_extension": ".py",
   "mimetype": "text/x-python",
   "name": "python",
   "nbconvert_exporter": "python",
   "pygments_lexer": "ipython3",
   "version": "3.7.13"
  },
  "orig_nbformat": 4,
  "vscode": {
   "interpreter": {
    "hash": "603ccaaf701cd42fc5b7f5de0e5a73b5f0d1d2bf4bdc286e245fc48966855f42"
   }
  }
 },
 "nbformat": 4,
 "nbformat_minor": 2
}
