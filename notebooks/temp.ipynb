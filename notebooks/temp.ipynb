{
 "cells": [
  {
   "cell_type": "code",
   "execution_count": 1,
   "metadata": {},
   "outputs": [],
   "source": [
    "from rank_bm25 import BM25Okapi\n",
    "import pandas as pd \n",
    "import re\n",
    "from tqdm import tqdm\n",
    "import numpy as np\n",
    "import json\n",
    "tqdm.pandas()"
   ]
  },
  {
   "cell_type": "code",
   "execution_count": 9,
   "metadata": {},
   "outputs": [],
   "source": [
    "devices = []\n",
    "rooms = []\n",
    "for key, value in corpus_slot.items():\n",
    "    for key_slot, value_slot in value.items():\n",
    "        if 'device' in key_slot:\n",
    "            devices.extend(value_slot['words']) \n",
    "        elif 'room' in key_slot:\n",
    "            rooms.extend(value_slot['words'])"
   ]
  },
  {
   "cell_type": "code",
   "execution_count": 10,
   "metadata": {},
   "outputs": [
    {
     "name": "stdout",
     "output_type": "stream",
     "text": [
      "{'loa thứ 4', 'quạt treo tường 3', 'hắt tường thứ 1', 'đèn treo tường thứ 1', 'cột đèn 1', 'đèn sắc màu', 'đèn compact 1', 'bình nóng lạnh 1', 'đèn ốp tường 4', 'van nước thứ 2', 'bóng sân 2', 'mành đôi thứ 2', 'âm thanh đa vùng thứ 3', 'đèn chùm thứ 3', 'đèn cảnh thứ 3', 'đèn thứ 3', 'huỳnh quang 1', 'đèn tường 3', 'bóng thờ 1', 'bóng kiểng 2', 'bóng làm việc 1', 'cửa cuốn thứ 1', 'bóng tiết kiệm điện thứ 1', 'đèn sưởi 1', 'đèn ngủ thứ 1', 'quạt thứ 1', 'đèn tiết kiệm điện', 'đèn treo tường thứ 3', 'quạt hút mùi thứ 4', 'rèm cửa 1', 'điều hòa thứ 1', 'huỳnh quang 2', 'loa còi thứ 2', 'bóng trụ cổng', 'đèn sân 4', 'vô tuyến thứ 3', 'đèn thả 1', 'đèn chùm thứ 1', 'bóng làm việc thứ 1', 'bóng hắt tường 2', 'bóng tròn', 'bóng ốp tường thứ 3', 'đèn âm trần 1', 'ốp tường 1', 'đèn trụ cổng thứ 3', 'đèn 1', 'động cơ thứ 2', 'đèn nhiều màu', 'đèn tranh 1', 'đèn tròn 3', 'đèn thứ 4', 'đèn led thứ 1', 'rèm ngang 1', 'bóng downlight thứ 1', 'mành thứ 3', 'mành cuốn 1', 'quạt thông gió thứ 4', 'rèm thứ 2', 'bóng sưởi thứ 4', 'bóng tuýp thứ 3', 'van nước 1', 'bóng làm việc 3', 'đèn led 3', 'bóng hoa 3', 'đèn tuýp thứ 1', 'rèm ngang 2', 'bóng đứng 1', 'bình nóng lạnh thứ 3', 'mành thứ 1', 'bóng led 3', 'bóng làm việc 2', 'bóng hắt tường thứ 3', 'hắt tường 1', 'hắt tường 2', 'đèn cây 4', 'màn cửa đôi 3', 'van nước', 'điều hoà 3', 'nút nhấn 2', 'bóng hoa 4', 'hắt trần', 'rèm cửa 2', 'bóng thờ 2', 'cảnh 4', 'điều hòa 4', 'van nước thứ 1', 'bóng thứ 4', 'đèn vách 2', 'đèn cảnh', 'đèn cổng thứ 2', 'bóng rủ', 'đèn sắc màu 4', 'điều hòa thứ 4', 'rèm cửa 4', 'đèn 3', 'đèn tròn 4', 'đèn đứng thứ 2', 'bóng vách 2', 'bóng huỳnh quang 3', 'bóng đứng 4', 'máy lạnh thứ 4', 'đèn ốp trần 1', 'đèn âm trần 3', 'điều hoà 4', 'bóng thờ 3', 'đèn chùm 3', 'bình nóng lạnh 4', 'mành thứ 2', 'âm thanh đa vùng thứ 1', 'mành đôi 4', 'đèn để bàn thứ 1', 'bóng âm trần 2', 'máy lạnh 2', 'bóng làm việc thứ 4', 'đèn trụ cổng 3', 'đèn hoa thứ 1', 'bóng trang trí thứ 2', 'đèn trần thứ 3', 'bóng thả 3', 'vô tuyến thứ 1', 'bóng vách 1', 'đèn tranh 4', 'đèn chùm 4', 'đèn hắt tường thứ 4', 'bóng 3', 'bóng ốp tường thứ 4', 'bóng downlight thứ 2', 'điều hòa thứ 2', 'đèn treo tường 1', 'bóng compact thứ 4', 'bóng downlight 1', 'đèn học 1', 'quạt thông gió', 'kịch bản 3', 'mành cuốn thứ 1', 'bóng để bàn thứ 2', 'bóng 2', 'đèn bàn thứ 3', 'điều hoà 1', 'đèn tiết kiệm điện 4', 'bóng học thứ 2', 'đèn treo tường 4', 'đèn led thứ 4', 'bóng sợi đốt thứ 2', 'màn cửa đơn thứ 4', 'công tắc 2', 'bóng hoa 1', 'đèn nhiều màu thứ 2', 'đèn thứ 1', 'màn cửa thứ 3', 'tivi 1', 'led 2', 'đèn hắt tường thứ 3', 'đèn bàn 2', 'đèn sưởi thứ 4', 'rèm đôi 2', 'bóng led 1', 'đèn compact 2', 'đèn để bàn thứ 4', 'quạt treo tường thứ 1', 'nóng lạnh 1', 'bóng hắt tường thứ 4', 'loa đài thứ 1', 'rèm ngang thứ 3', 'bóng sưởi thứ 1', 'bóng ốp trần 4', 'đèn vách 1', 'ốp tường 2', 'đèn quảng cáo thứ 1', 'rèm đơn', 'mành cuốn 4', 'đèn tròn 2', 'ốp trần 2', 'đèn màu', 'ti vi 3', 'đèn cây 2', 'đèn sưởi thứ 1', 'đèn tường thứ 1', 'loa', 'bóng để bàn thứ 3', 'đèn rọi thứ 2', 'đèn âm trần 4', 'điều hòa 2', 'bòng hắt trần 3', 'ốp trần thứ 3', 'đèn thờ 2', 'đèn trang trí 4', 'đèn thờ thứ 4', 'bóng để bàn thứ 4', 'nóng lạnh 4', 'ốp tường', 'rèm đôi thứ 2', 'bóng sợi đốt thứ 1', 'đèn cảnh thứ 4', 'đèn tranh', 'đèn thả 2', 'tvs thứ 1', 'bóng vách 4', 'kiểng 3', 'bóng tiết kiệm điện thứ 2', 'đèn tuýp thứ 3', 'loa còi 4', 'đèn chùm 2', 'bòng hắt trần 2', 'led 3', 'đèn lồng thứ 1', 'đèn trang trí thứ 2', 'đèn chùm 1', 'tvs thứ 4', 'mành thứ 4', 'loa còi thứ 4', 'bóng âm trần 1', 'đèn vách thứ 1', 'đèn bếp', 'máy lạnh 4', 'đèn nhiều màu 1', 'bóng rọi 2', 'đèn ốp tường', 'đèn sân 2', 'led 1', 'vô tuyến thứ 4', 'công tắc 1', 'đèn vườn', 'màn cửa đôi 1', 'rèm đôi thứ 1', 'bóng', 'quạt 1', 'mành đôi 1', 'loa thứ 3', 'đèn tròn thứ 3', 'loa còi thứ 3', 'động cơ thứ 3', 'đèn flash thứ 4', 'quạt hút mùi thứ 1', 'huỳnh quang thứ 2', 'bóng kiểng 1', 'đèn tường thứ 2', 'đèn rủ 4', 'bóng sưởi thứ 2', 'bóng treo tường 1', 'đèn tuýp thứ 4', 'máy lạnh 1', 'đèn trụ cổng 4', 'bòng hắt trần', 'cột đèn 3', 'đèn tranh thứ 3', 'đèn nhiều màu 3', 'bóng downlight 4', 'bóng rọi 1', 'mành đôi thứ 1', 'đèn lồng thứ 2', 'huỳnh quang thứ 4', 'ti vi thứ 2', 'bóng sân 4', 'điều hòa 3', 'rèm đôi thứ 3', 'loa thứ 1', 'đèn đứng thứ 1', 'đèn ngủ thứ 4', 'mành cuốn thứ 4', 'đèn vách', 'ốp trần thứ 4', 'đèn màu sắc thứ 3', 'công tắc', 'bóng kiểng 3', 'đèn trụ cổng 2', 'âm thanh đa vùng thứ 4', 'đèn hoa thứ 4', 'màn cửa thứ 4', 'bóng sợi đốt 2', 'bóng ốp trần', 'rèm đôi thứ 4', 'ốp trần 4', 'máy lạnh thứ 1', 'tvs thứ 3', 'đèn trụ cổng thứ 1', 'đèn tường thứ 4', 'ti vi 2', 'đèn hắt tường thứ 2', 'bóng downlight 3', 'đèn lồng thứ 4', 'hắt trần thứ 2', 'quạt 3', 'màn cửa đôi 4', 'đèn học thứ 2', 'đèn tường 2', 'đèn ngủ', 'van nước thứ 3', 'đèn hắt trần', 'bóng treo tường thứ 4', 'cửa cuốn thứ 3', 'huỳnh quang thứ 1', 'đèn cảnh thứ 2', 'đèn âm trần thứ 1', 'bóng tiết kiệm điện thứ 3', 'đèn tranh 3', 'đèn led 1', 'đèn học', 'đèn rọi thứ 1', 'nóng lạnh 3', 'quạt treo tường thứ 3', 'bóng để bàn thứ 1', 'bóng tuýp thứ 4', 'đèn sưởi 4', 'đèn 2', 'rèm cửa thứ 3', 'tvs 3', 'bóng treo tường', 'tvs 1', 'bóng hắt tường 4', 'rgb', 'bóng sưởi', 'nút nhấn 3', 'nút ấn thứ 1', 'bóng thả 1', 'ti vi thứ 3', 'đèn tròn thứ 4', 'bóng ốp tường thứ 2', 'cảnh', 'đèn tranh 2', 'kiểng thứ 3', 'quạt thứ 2', 'điều hoà 2', 'âm thanh đa vùng', 'đèn vườn 4', 'đèn nhiều màu 2', 'đèn sân thứ 4', 'đèn huỳnh quang thứ 2', 'đèn tuýp', 'cột đèn 2', 'bóng ốp tường thứ 1', 'downlight thứ 4', 'đèn chùm thứ 4', 'bình nóng lạnh 3', 'đèn màu sắc 3', 'động cơ thứ 1', 'bóng tiết kiệm điện thứ 4', 'đèn treo tường', 'rèm ngang', 'hắt tường 3', 'bóng tiết kiệm điện', 'đèn sắc màu 1', 'đèn hắt tường thứ 1', 'hắt trần thứ 3', 'bóng trang trí thứ 1', 'bóng huỳnh quang 1', 'bóng ngủ', 'đèn sợi đốt 2', 'đèn sợi đốt 3', 'đèn thờ 4', 'bóng âm trần 4', 'loa đài thứ 2', 'đèn thả', 'đèn âm trần thứ 4', 'bóng thờ 4', 'cửa cuốn', 'nút nhấn', 'bóng rủ 1', 'động cơ 4', 'điện thứ 3', 'bóng vách', 'nút ấn 4', 'điều hòa thứ 3', 'màn cuốn', 'tvs thứ 2', 'bòng hắt trần 1', 'van nước thứ 4', 'bóng sưởi thứ 3', 'quạt trần thứ 4', 'đèn vườn 1', 'đèn tranh thứ 4', 'đèn trang trí 2', 'đèn flash thứ 1', 'đèn sắc màu 3', 'bóng làm việc thứ 2', 'van nước 3', 'quạt thông gió thứ 3', 'đèn rủ 2', 'ti vi 1', 'bóng thờ thứ 1', 'kiểng', 'bóng tuýp thứ 1', 'đèn sân 1', 'bóng huỳnh quang 2', 'nút ấn 3', 'quạt trần thứ 1', 'kịch bản', 'kiểng 1', 'bóng ốp trần 2', 'đèn sân', 'tvs 2', 'ti vi thứ 4', 'nút nhấn 1', 'màn cửa thứ 2', 'bóng hoa 2', 'đèn trang trí thứ 3', 'đèn màu sắc thứ 4', 'đèn trần thứ 1', 'đèn sân thứ 1', 'đèn vách thứ 4', 'ốp trần 1', 'ốp tường 4', 'đèn đứng 3', 'bóng hắt 2', 'bóng huỳnh quang 4', 'bóng thờ', 'đèn thờ thứ 2', 'led', 'đèn ốp tường thứ 4', 'huỳnh quang thứ 3', 'mành cuốn 3', 'đèn tuýp thứ 2', 'nút ấn thứ 4', 'đèn học 2', 'đèn cổng thứ 4', 'bóng sợi đốt 4', 'đèn huỳnh quang thứ 1', 'quạt treo tường thứ 4', 'bóng học thứ 1', 'hắt tường thứ 3', 'bóng làm việc thứ 3', 'bóng hắt tường 3', 'đèn đứng thứ 4', 'đèn thờ thứ 3', 'đèn ốp tường 2', 'đèn trần thứ 2', 'bóng âm trần 3', 'đèn trụ cổng 1', 'bóng huỳnh quang', 'máy lạnh thứ 2', 'hắt tường 4', 'quạt treo tường 2', 'van nước 4', 'quạt 4', 'rèm ngang 3', 'bóng sợi đốt thứ 4', 'đèn đứng thứ 3', 'đèn 4', 'bóng làm việc 4', 'bóng ngủ thứ 4', 'bóng sợi đốt thứ 3', 'động cơ 3', 'đèn bàn thứ 4', 'bóng đứng thứ 2', 'rèm đôi', 'đèn màu sắc thứ 2', 'ốp trần thứ 1', 'bóng học', 'bóng kiểng thứ 2', 'đèn trang trí thứ 1', 'cửa cuốn thứ 4', 'điện thứ 4', 'nút ấn', 'đèn tranh thứ 1', 'bóng vườn', 'đèn ngủ thứ 3', 'đèn ốp trần 4', 'nút ấn thứ 3', 'mành cuốn thứ 2', 'loa còi thứ 1', 'huỳnh quang 4', 'bóng đứng', 'đèn màu sắc 4', 'đèn sân thứ 3', 'đèn tường 1', 'đèn tròn 1', 'quạt treo tường 1', 'đèn trang trí 3', 'đèn ốp trần', 'kiểng 4', 'máy lạnh 3', 'loa còi 1', 'đèn học 4', 'tivi 3', 'kịch bản 4', 'đèn thờ 3', 'vô tuyến 4', 'loa còi 3', 'đèn nhiều màu thứ 4', 'bóng đứng 3', 'mành đôi 2', 'đèn ốp trần 2', 'đèn led thứ 3', 'đèn làm việc', 'downlight thứ 2', 'đèn ốp tường 1', 'bóng hắt 3', 'đèn tròn thứ 1', 'màn cửa đơn', 'đèn học thứ 4', 'đèn vách thứ 2', 'bóng kiểng 4', 'bóng kiểng thứ 3', 'đèn compact 4', 'quạt trần thứ 2', 'đèn sợi đốt', 'điện thứ 1', 'mành đôi thứ 3', 'đèn cổng thứ 3', 'bóng trụ cổng 3', 'nút ấn 2', 'bóng compact thứ 3', 'bòng hắt trần 4', 'đèn tiết kiệm điện 1', 'kiểng thứ 4', 'kiểng 2', 'đèn thả 3', 'bóng trụ cổng 2', 'đèn học 3', 'bóng rọi 3', 'quạt treo tường thứ 2', 'quạt trần 1', 'đèn ốp tường thứ 3', 'màn cửa đơn thứ 1', 'đèn sợi đốt 1', 'bình nóng lạnh 2', 'đèn thờ 1', 'bóng ngủ thứ 3', 'bóng đứng thứ 4', 'bóng treo tường thứ 2', 'đèn thờ', 'đèn đứng 1', 'đèn vách 3', 'bóng treo tường thứ 1', 'đèn flash thứ 2', 'bóng hoa', 'bóng rủ 3', 'đèn đứng 4', 'bóng thờ thứ 3', 'bóng sợi đốt 3', 'công tắc 3', 'đèn cổng', 'đèn cây 3', 'bình nóng lạnh thứ 4', 'đèn treo tường thứ 4', 'đèn trần', 'led 4', 'bóng rọi 4', 'bóng sân 3', 'bóng để bàn', 'đèn màu sắc 2', 'máy lạnh thứ 3', 'đèn âm trần thứ 2', 'màn cửa đơn thứ 3', 'quạt trần thứ 3', 'bóng thờ thứ 4', 'đèn bàn thứ 2', 'quạt trần', 'bóng chùm thứ 3', 'kiểng thứ 1', 'đèn cây 1', 'đèn đứng', 'vô tuyến 1', 'rèm thứ 4', 'cảnh 1', 'bóng tường', 'bóng đứng thứ 3', 'đèn vườn 2', 'đèn treo tường 3', 'đèn led 2', 'bóng downlight 2', 'đèn led 4', 'đèn sưởi 2', 'cảnh 2', 'màn cuốn 2', 'đèn sưởi thứ 2', 'cảnh 3', 'bóng treo tường 2', 'nút nhấn 4', 'rèm đôi 3', 'bóng thứ 3', 'bóng chùm thứ 4', 'đèn ốp trần 3', 'van tưới', 'quạt trần 3', 'đèn thờ thứ 1', 'hắt trần thứ 1', 'đèn tiết kiệm điện 3', 'tivi', 'bóng hắt tường 1', 'quạt', 'màn cuốn 3', 'bóng hắt tường thứ 2', 'mành đôi 3', 'quạt 2', 'bóng treo tường 3', 'bóng sợi đốt 1', 'rèm cửa thứ 2', 'bóng led 4', 'rèm cửa', 'rèm ngang 4', 'quạt trần 2', 'đèn rủ 1', 'đèn sân thứ 2', 'đèn rọi thứ 4', 'quạt thứ 3', 'đèn nhiều màu thứ 1', 'động cơ thứ 4', 'đèn quảng cáo thứ 4', 'đèn vách thứ 3', 'đèn trụ cổng thứ 2', 'van nước 2', 'loa đài thứ 3', 'bóng compact thứ 1', 'đèn huỳnh quang', 'đèn huỳnh quang thứ 3', 'đèn hoa thứ 2', 'điện thứ 2', 'màn cuốn 1', 'đèn bàn 4', 'màn cửa đơn thứ 2', 'màn cửa đôi 2', 'bình nóng lạnh', 'bóng hắt', 'đèn tròn thứ 2', 'bóng ngủ thứ 2', 'bóng học thứ 4', 'điện', 'nóng lạnh 2', 'đèn tiết kiệm điện 2', 'rèm ngang thứ 1', 'kiểng thứ 2', 'bóng 4', 'cột đèn 4', 'đèn ngủ thứ 2', 'đèn cảnh thứ 1', 'mành đôi thứ 4', 'đèn tường 4', 'đèn hắt', 'vô tuyến 3', 'bóng sợi đốt', 'nút ấn 1', 'đèn để bàn thứ 2', 'đèn âm trần 2', 'kịch bản 1', 'rèm ngang thứ 2', 'đèn rủ', 'loa còi 2', 'quạt trần 4', 'rèm cửa 3', 'tivi 4', 'đèn downlight', 'bóng đứng 2', 'đèn trụ cổng thứ 4', 'đèn quảng cáo', 'đèn led thứ 2', 'bóng sân', 'rèm thứ 3', 'bóng rủ 4', 'đèn quảng cáo thứ 3', 'bóng downlight thứ 4', 'rèm cửa thứ 4', 'đèn led', 'rèm ngang thứ 4', 'đèn thứ 2', 'bóng ốp trần 1', 'bóng đứng thứ 1', 'bóng trang trí thứ 3', 'downlight thứ 1', 'đèn huỳnh quang thứ 4', 'đèn thả 4', 'mành cuốn thứ 3', 'ốp tường 3', 'nút ấn thứ 2', 'kịch bản 2', 'bóng hắt tường', 'rèm đôi 4', 'đèn sợi đốt 4', 'quạt hút mùi thứ 2', 'quạt thông gió thứ 1'}\n"
     ]
    }
   ],
   "source": [
    "devices = set(devices)\n",
    "print(devices)"
   ]
  },
  {
   "cell_type": "markdown",
   "metadata": {},
   "source": []
  },
  {
   "cell_type": "code",
   "execution_count": 14,
   "metadata": {},
   "outputs": [
    {
     "data": {
      "text/plain": [
       "False"
      ]
     },
     "execution_count": 14,
     "metadata": {},
     "output_type": "execute_result"
    }
   ],
   "source": [
    "'chùm thứ 3' in devices"
   ]
  },
  {
   "cell_type": "code",
   "execution_count": 11,
   "metadata": {},
   "outputs": [],
   "source": [
    "rooms = set(rooms)"
   ]
  },
  {
   "cell_type": "code",
   "execution_count": 6,
   "metadata": {},
   "outputs": [],
   "source": [
    "data = pd.read_csv('/media/dmk/D:/Data/Project/NLP/NLUPractice/assets/data/bkai/train/train.csv')"
   ]
  },
  {
   "cell_type": "code",
   "execution_count": 7,
   "metadata": {},
   "outputs": [],
   "source": [
    "def preprocess_text(sent):\n",
    "    # sent = re.sub('[0-9]+', \"\", sent).strip()\n",
    "    for device in devices:\n",
    "        sent = re.sub(f\" {device}\", \" \", sent)\n",
    "    return re.sub('\\s+', \" \", sent)"
   ]
  },
  {
   "cell_type": "code",
   "execution_count": 8,
   "metadata": {},
   "outputs": [
    {
     "name": "stderr",
     "output_type": "stream",
     "text": [
      "100%|██████████| 1790/1790 [01:09<00:00, 25.79it/s]\n"
     ]
    }
   ],
   "source": [
    "data['text_copy'] = data['text'].astype(str).progress_apply(lambda x: preprocess_text(x))"
   ]
  },
  {
   "cell_type": "code",
   "execution_count": 12,
   "metadata": {},
   "outputs": [],
   "source": [
    "all_sentences = data['text_copy'].values.tolist()\n",
    "all_labels = data['intent'].values.tolist()"
   ]
  },
  {
   "cell_type": "code",
   "execution_count": 13,
   "metadata": {},
   "outputs": [
    {
     "data": {
      "text/html": [
       "<div>\n",
       "<style scoped>\n",
       "    .dataframe tbody tr th:only-of-type {\n",
       "        vertical-align: middle;\n",
       "    }\n",
       "\n",
       "    .dataframe tbody tr th {\n",
       "        vertical-align: top;\n",
       "    }\n",
       "\n",
       "    .dataframe thead th {\n",
       "        text-align: right;\n",
       "    }\n",
       "</style>\n",
       "<table border=\"1\" class=\"dataframe\">\n",
       "  <thead>\n",
       "    <tr style=\"text-align: right;\">\n",
       "      <th></th>\n",
       "      <th>text</th>\n",
       "      <th>intent</th>\n",
       "      <th>tag</th>\n",
       "      <th>text_copy</th>\n",
       "    </tr>\n",
       "  </thead>\n",
       "  <tbody>\n",
       "    <tr>\n",
       "      <th>0</th>\n",
       "      <td>tăng bóng 3 26 phần trăm</td>\n",
       "      <td>smart.home.increase.percentage</td>\n",
       "      <td>O B-devicedevice I-devicedevice B-change-value...</td>\n",
       "      <td>tăng 26 phần trăm</td>\n",
       "    </tr>\n",
       "    <tr>\n",
       "      <th>1</th>\n",
       "      <td>hãy tăng thêm độ sáng phòng ngủ con trai lên 9...</td>\n",
       "      <td>smart.home.increase.percentage</td>\n",
       "      <td>O B-commandcommand I-commandcommand O O B-room...</td>\n",
       "      <td>hãy tăng thêm độ sáng phòng ngủ con trai lên 9...</td>\n",
       "    </tr>\n",
       "    <tr>\n",
       "      <th>2</th>\n",
       "      <td>giúp mình tăng đèn âm trần thứ 2 lên 10 phần t...</td>\n",
       "      <td>smart.home.increase.percentage</td>\n",
       "      <td>O O O B-devicedevice I-devicedevice I-devicede...</td>\n",
       "      <td>giúp mình tăng lên 10 phần trăm ở phòng con nh...</td>\n",
       "    </tr>\n",
       "    <tr>\n",
       "      <th>3</th>\n",
       "      <td>bạn có thể tăng giúp mình bóng chùm thứ 3 lên ...</td>\n",
       "      <td>smart.home.increase.percentage</td>\n",
       "      <td>O O O O O O B-devicedevice I-devicedevice I-de...</td>\n",
       "      <td>bạn có thể tăng giúp mình chùm thứ 3 lên mức 2...</td>\n",
       "    </tr>\n",
       "    <tr>\n",
       "      <th>4</th>\n",
       "      <td>tăng bình nóng lạnh 5 phần trăm</td>\n",
       "      <td>smart.home.increase.percentage</td>\n",
       "      <td>O B-devicedevice I-devicedevice I-devicedevice...</td>\n",
       "      <td>tăng 5 phần trăm</td>\n",
       "    </tr>\n",
       "    <tr>\n",
       "      <th>...</th>\n",
       "      <td>...</td>\n",
       "      <td>...</td>\n",
       "      <td>...</td>\n",
       "      <td>...</td>\n",
       "    </tr>\n",
       "    <tr>\n",
       "      <th>1785</th>\n",
       "      <td>xin chào</td>\n",
       "      <td>greeting</td>\n",
       "      <td>O O</td>\n",
       "      <td>xin chào</td>\n",
       "    </tr>\n",
       "    <tr>\n",
       "      <th>1786</th>\n",
       "      <td>trợ lý có đó chứ mình cần bạn</td>\n",
       "      <td>greeting</td>\n",
       "      <td>O O O O O O O O</td>\n",
       "      <td>trợ lý có đó chứ mình cần bạn</td>\n",
       "    </tr>\n",
       "    <tr>\n",
       "      <th>1787</th>\n",
       "      <td>mình là chaien hãy giúp mình đánh bại nobita nào</td>\n",
       "      <td>greeting</td>\n",
       "      <td>O O O O O O O O O O</td>\n",
       "      <td>mình là chaien hãy giúp mình đánh bại nobita nào</td>\n",
       "    </tr>\n",
       "    <tr>\n",
       "      <th>1788</th>\n",
       "      <td>alo trợ lý ơi</td>\n",
       "      <td>greeting</td>\n",
       "      <td>O O O O</td>\n",
       "      <td>alo trợ lý ơi</td>\n",
       "    </tr>\n",
       "    <tr>\n",
       "      <th>1789</th>\n",
       "      <td>hello bạn</td>\n",
       "      <td>greeting</td>\n",
       "      <td>O O</td>\n",
       "      <td>hello bạn</td>\n",
       "    </tr>\n",
       "  </tbody>\n",
       "</table>\n",
       "<p>1790 rows × 4 columns</p>\n",
       "</div>"
      ],
      "text/plain": [
       "                                                   text  \\\n",
       "0                              tăng bóng 3 26 phần trăm   \n",
       "1     hãy tăng thêm độ sáng phòng ngủ con trai lên 9...   \n",
       "2     giúp mình tăng đèn âm trần thứ 2 lên 10 phần t...   \n",
       "3     bạn có thể tăng giúp mình bóng chùm thứ 3 lên ...   \n",
       "4                       tăng bình nóng lạnh 5 phần trăm   \n",
       "...                                                 ...   \n",
       "1785                                           xin chào   \n",
       "1786                      trợ lý có đó chứ mình cần bạn   \n",
       "1787   mình là chaien hãy giúp mình đánh bại nobita nào   \n",
       "1788                                      alo trợ lý ơi   \n",
       "1789                                          hello bạn   \n",
       "\n",
       "                              intent  \\\n",
       "0     smart.home.increase.percentage   \n",
       "1     smart.home.increase.percentage   \n",
       "2     smart.home.increase.percentage   \n",
       "3     smart.home.increase.percentage   \n",
       "4     smart.home.increase.percentage   \n",
       "...                              ...   \n",
       "1785                        greeting   \n",
       "1786                        greeting   \n",
       "1787                        greeting   \n",
       "1788                        greeting   \n",
       "1789                        greeting   \n",
       "\n",
       "                                                    tag  \\\n",
       "0     O B-devicedevice I-devicedevice B-change-value...   \n",
       "1     O B-commandcommand I-commandcommand O O B-room...   \n",
       "2     O O O B-devicedevice I-devicedevice I-devicede...   \n",
       "3     O O O O O O B-devicedevice I-devicedevice I-de...   \n",
       "4     O B-devicedevice I-devicedevice I-devicedevice...   \n",
       "...                                                 ...   \n",
       "1785                                                O O   \n",
       "1786                                    O O O O O O O O   \n",
       "1787                                O O O O O O O O O O   \n",
       "1788                                            O O O O   \n",
       "1789                                                O O   \n",
       "\n",
       "                                              text_copy  \n",
       "0                                     tăng 26 phần trăm  \n",
       "1     hãy tăng thêm độ sáng phòng ngủ con trai lên 9...  \n",
       "2     giúp mình tăng lên 10 phần trăm ở phòng con nh...  \n",
       "3     bạn có thể tăng giúp mình chùm thứ 3 lên mức 2...  \n",
       "4                                      tăng 5 phần trăm  \n",
       "...                                                 ...  \n",
       "1785                                           xin chào  \n",
       "1786                      trợ lý có đó chứ mình cần bạn  \n",
       "1787   mình là chaien hãy giúp mình đánh bại nobita nào  \n",
       "1788                                      alo trợ lý ơi  \n",
       "1789                                          hello bạn  \n",
       "\n",
       "[1790 rows x 4 columns]"
      ]
     },
     "execution_count": 13,
     "metadata": {},
     "output_type": "execute_result"
    }
   ],
   "source": [
    "data"
   ]
  },
  {
   "cell_type": "code",
   "execution_count": 17,
   "metadata": {},
   "outputs": [],
   "source": [
    "corpus_word_tokenizer = [sent.split(\" \") for sent in all_sentences]"
   ]
  },
  {
   "cell_type": "code",
   "execution_count": 18,
   "metadata": {},
   "outputs": [
    {
     "data": {
      "text/plain": [
       "list"
      ]
     },
     "execution_count": 18,
     "metadata": {},
     "output_type": "execute_result"
    }
   ],
   "source": [
    "type(all_labels)"
   ]
  },
  {
   "cell_type": "code",
   "execution_count": null,
   "metadata": {},
   "outputs": [],
   "source": []
  },
  {
   "cell_type": "code",
   "execution_count": 25,
   "metadata": {},
   "outputs": [],
   "source": [
    "def check(sent):\n",
    "    # sent = preprocess_text(sent)\n",
    "    idx = all_sentences.index(sent)\n",
    "    if idx == 0:\n",
    "        corpus_word_tokenizer_temp = corpus_word_tokenizer[idx + 1 :]\n",
    "        labels_temp = all_labels[idx+1 :]\n",
    "    elif idx < len(all_sentences) - 1:\n",
    "        corpus_word_tokenizer_temp = corpus_word_tokenizer[: idx] + corpus_word_tokenizer[idx + 1 : ]\n",
    "        labels_temp = all_labels[:idx] + all_labels[idx + 1:]\n",
    "        \n",
    "    else:\n",
    "        corpus_word_tokenizer_temp = corpus_word_tokenizer[:idx]\n",
    "        labels_temp = all_labels[:idx]\n",
    "    \n",
    "    bm25_model = BM25Okapi(corpus_word_tokenizer_temp)\n",
    "    sent = sent.split(\" \")\n",
    "    scores = bm25_model.get_scores(sent)\n",
    "    index_score = np.argmax(scores)\n",
    "    if index_score > idx:\n",
    "        print(all_sentences[index_score+1], '---', scores[index_score])\n",
    "    else:\n",
    "        print(all_sentences[index_score], '---', scores[index_score])\n",
    "    return labels_temp[index_score]\n",
    "    \n",
    "        "
   ]
  },
  {
   "cell_type": "code",
   "execution_count": 26,
   "metadata": {},
   "outputs": [
    {
     "name": "stdout",
     "output_type": "stream",
     "text": [
      "mở bình nóng lạnh thứ 4 sáng 68 phần trăm --- 15.50787945360508\n"
     ]
    },
    {
     "data": {
      "text/plain": [
       "'smart.home.set.percentage'"
      ]
     },
     "execution_count": 26,
     "metadata": {},
     "output_type": "execute_result"
    }
   ],
   "source": [
    "check('tăng bình nóng lạnh 5 phần trăm')"
   ]
  },
  {
   "cell_type": "code",
   "execution_count": null,
   "metadata": {},
   "outputs": [],
   "source": []
  },
  {
   "cell_type": "code",
   "execution_count": null,
   "metadata": {},
   "outputs": [],
   "source": []
  },
  {
   "cell_type": "code",
   "execution_count": null,
   "metadata": {},
   "outputs": [],
   "source": []
  }
 ],
 "metadata": {
  "interpreter": {
   "hash": "603ccaaf701cd42fc5b7f5de0e5a73b5f0d1d2bf4bdc286e245fc48966855f42"
  },
  "kernelspec": {
   "display_name": "Python 3.7.13 ('pytorch')",
   "language": "python",
   "name": "python3"
  },
  "language_info": {
   "codemirror_mode": {
    "name": "ipython",
    "version": 3
   },
   "file_extension": ".py",
   "mimetype": "text/x-python",
   "name": "python",
   "nbconvert_exporter": "python",
   "pygments_lexer": "ipython3",
   "version": "3.7.13"
  },
  "orig_nbformat": 4
 },
 "nbformat": 4,
 "nbformat_minor": 2
}
